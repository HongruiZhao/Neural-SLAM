{
 "cells": [
  {
   "cell_type": "code",
   "execution_count": 14,
   "id": "5ac57fd0",
   "metadata": {},
   "outputs": [],
   "source": [
    "import seaborn as sns\n",
    "import matplotlib.pyplot as plt\n",
    "import matplotlib.patches as mpatches\n"
   ]
  },
  {
   "cell_type": "code",
   "execution_count": null,
   "id": "fb9d6299",
   "metadata": {},
   "outputs": [
    {
     "ename": "SyntaxError",
     "evalue": "EOL while scanning string literal (3998711667.py, line 11)",
     "output_type": "error",
     "traceback": [
      "\u001b[0;36m  Cell \u001b[0;32mIn[17], line 11\u001b[0;36m\u001b[0m\n\u001b[0;31m    rei_blue = '#E25629B\u001b[0m\n\u001b[0m                        ^\u001b[0m\n\u001b[0;31mSyntaxError\u001b[0m\u001b[0;31m:\u001b[0m EOL while scanning string literal\n"
     ]
    }
   ],
   "source": [
    "import seaborn as sns\n",
    "import matplotlib.pyplot as plt\n",
    "\n",
    "# define colors in hex\n",
    "eva_purple1 = \"#995CD0\"\n",
    "eva_purple2 = \"#5549B7\"\n",
    "eva_darkpurple = \"#201D30\"\n",
    "eva_green = \"#8EDF5F\"\n",
    "eva_orange = \"#EC7744\"\n",
    "rei_white = \"#E1F6F8\"\n",
    "rei_white2 = \"#CDD3F4\"\n",
    "rei_blue = \"#25629B\"\n",
    "elster_red = \"#93092b\"\n",
    "\n",
    "eva_palette_basic = sns.color_palette([eva_purple1, eva_purple2, eva_darkpurple, eva_green, eva_orange])\n",
    "print(eva_palette_basic) # RGB in 0~1\n",
    "sns.palplot(eva_palette_basic)\n",
    "\n",
    "legend_elements = [\n",
    "    mpatches.Patch(color=eva_palette_basic[0], label='eva_purple1'),\n",
    "    mpatches.Patch(color=eva_palette_basic[1], label='eva_purple2'),\n",
    "    mpatches.Patch(color=eva_palette_basic[2], label='eva_darkpurple'),\n",
    "    mpatches.Patch(color=eva_palette_basic[3], label='eva_green'),\n",
    "    mpatches.Patch(color=eva_palette_basic[4], label='eva_orange'),\n",
    "]\n",
    "plt.legend(handles=legend_elements, fontsize=8)\n",
    "plt.show()\n",
    "# use preset color \n",
    "hls_palette = sns.color_palette(\"hls\", 8) # divide into color space into 8 bins \n",
    "sns.palplot(hls_palette)\n",
    "plt.show()\n"
   ]
  },
  {
   "cell_type": "code",
   "execution_count": null,
   "id": "168884b5",
   "metadata": {},
   "outputs": [],
   "source": []
  }
 ],
 "metadata": {
  "kernelspec": {
   "display_name": "NeuralSLAM",
   "language": "python",
   "name": "python3"
  },
  "language_info": {
   "codemirror_mode": {
    "name": "ipython",
    "version": 3
   },
   "file_extension": ".py",
   "mimetype": "text/x-python",
   "name": "python",
   "nbconvert_exporter": "python",
   "pygments_lexer": "ipython3",
   "version": "3.9.23"
  }
 },
 "nbformat": 4,
 "nbformat_minor": 5
}
