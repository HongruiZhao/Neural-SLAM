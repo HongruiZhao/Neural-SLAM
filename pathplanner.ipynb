{
 "cells": [
  {
   "cell_type": "code",
   "execution_count": 1,
   "id": "5ac57fd0",
   "metadata": {},
   "outputs": [],
   "source": [
    "import numpy as np\n",
    "import matplotlib.pyplot as plt\n",
    "import skimage\n"
   ]
  },
  {
   "cell_type": "code",
   "execution_count": null,
   "id": "168884b5",
   "metadata": {},
   "outputs": [],
   "source": [
    "def generate_indoor_scene(width, height):\n",
    "    \"\"\"\n",
    "    Generates a 2D binary numpy array mimicking an indoor scene.\n",
    "\n",
    "    Args:\n",
    "        width (int): The width of the scene array.\n",
    "        height (int): The height of the scene array.\n",
    "\n",
    "    Returns:\n",
    "        numpy.ndarray: A 2D binary array representing the indoor scene.\n",
    "    \"\"\"\n",
    "    scene = np.zeros((height, width), dtype=int)\n",
    "\n",
    "    # 1. Create Walls (Perimeter)\n",
    "    scene[0, :] = 1  # Top wall\n",
    "    scene[height - 1, :] = 1  # Bottom wall\n",
    "    scene[:, 0] = 1  # Left wall\n",
    "    scene[:, width - 1] = 1  # Right wall\n",
    "\n",
    "    # 2. Add some \"Furniture\" (Examples)\n",
    "    # A rectangular table/bed in the center\n",
    "    table_width = int(width * 0.3)\n",
    "    table_height = int(height * 0.2)\n",
    "    table_start_x = (width - table_width) // 2\n",
    "    table_start_y = (height - table_height) // 2\n",
    "    scene[table_start_y : table_start_y + table_height,\n",
    "          table_start_x : table_start_x + table_width] = 1\n",
    "\n",
    "    # A smaller \"rug\" or \"coffee table\"\n",
    "    rug_width = int(width * 0.15)\n",
    "    rug_height = int(height * 0.1)\n",
    "    rug_start_x = int(width * 0.6)\n",
    "    rug_start_y = int(height * 0.7)\n",
    "    scene[rug_start_y : rug_start_y + rug_height,\n",
    "          rug_start_x : rug_start_x + rug_width] = 1\n",
    "\n",
    "    # A \"doorway\" (a gap in a wall) - let's make a gap in the top wall\n",
    "    door_start = width // 3\n",
    "    door_end = door_start + (width // 5)\n",
    "    scene[0, door_start:door_end] = 0\n",
    "\n",
    "    # A \"window\" (another gap, perhaps in a side wall)\n",
    "    window_start = height // 4\n",
    "    window_end = window_start + (height // 4)\n",
    "    scene[window_start:window_end, width - 1] = 0\n",
    "\n",
    "\n",
    "    # Add a \"cabinet\" or \"bookshelf\" in a corner\n",
    "    cabinet_width = int(width * 0.1)\n",
    "    cabinet_height = int(height * 0.3)\n",
    "    scene[1:1 + cabinet_height, 1:1 + cabinet_width] = 1\n",
    "\n",
    "    # Add a \"chair\"\n",
    "    chair_size = 3\n",
    "    scene[height - chair_size - 2 : height - 2,\n",
    "          width - chair_size - 2 : width - 2] = 1\n",
    "\n",
    "\n",
    "    return scene\n",
    "\n",
    "\n",
    "\n",
    "    "
   ]
  },
  {
   "cell_type": "code",
   "execution_count": 8,
   "id": "0449d2de",
   "metadata": {},
   "outputs": [
    {
     "data": {
      "image/png": "[encoded data removed]",
      "text/plain": [
       "<Figure size 640x480 with 1 Axes>"
      ]
     },
     "metadata": {},
     "output_type": "display_data"
    }
   ],
   "source": [
    "scene_width = 40\n",
    "scene_height = 20\n",
    "indoor_scene = generate_indoor_scene(scene_width, scene_height)\n",
    "plt.imshow(indoor_scene)\n",
    "plt.show()"
   ]
  },
  {
   "cell_type": "code",
   "execution_count": null,
   "id": "56de519c",
   "metadata": {},
   "outputs": [
    {
     "data": {
      "image/png": "[encoded data removed]",
      "text/plain": [
       "<Figure size 640x480 with 1 Axes>"
      ]
     },
     "metadata": {},
     "output_type": "display_data"
    }
   ],
   "source": [
    "selem = skimage.morphology.disk(3)\n",
    "traversible = skimage.morphology.binary_dilation(\n",
    "                        indoor_scene, footprint=selem\n",
    "                        ) \n",
    "\n",
    "plt.imshow(traversible, cmap='cool')\n",
    "plt.show()\n"
   ]
  }
 ],
 "metadata": {
  "kernelspec": {
   "display_name": "NeuralSLAM",
   "language": "python",
   "name": "python3"
  },
  "language_info": {
   "codemirror_mode": {
    "name": "ipython",
    "version": 3
   },
   "file_extension": ".py",
   "mimetype": "text/x-python",
   "name": "python",
   "nbconvert_exporter": "python",
   "pygments_lexer": "ipython3",
   "version": "3.9.23"
  }
 },
 "nbformat": 4,
 "nbformat_minor": 5
}
